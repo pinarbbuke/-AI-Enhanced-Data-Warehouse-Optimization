{
 "cells": [
  {
   "cell_type": "markdown",
   "metadata": {},
   "source": [
    "This script is to create synthetic query logs to mimic Snowflake query history"
   ]
  },
  {
   "cell_type": "code",
   "execution_count": 1,
   "metadata": {},
   "outputs": [],
   "source": [
    "import pandas as pd\n",
    "import numpy as np"
   ]
  },
  {
   "cell_type": "code",
   "execution_count": 2,
   "metadata": {},
   "outputs": [],
   "source": [
    "\n",
    "# Generate synthetic data\n",
    "np.random.seed(42)\n",
    "query_logs = pd.DataFrame({\n",
    "    'query_id': range(1, 101),\n",
    "    'user_name': np.random.choice(['user_a', 'user_b', 'user_c'], size=100),\n",
    "    'execution_time': np.random.uniform(1, 20, size=100),  # in seconds\n",
    "    'bytes_scanned': np.random.uniform(100, 10000, size=100),  # in MB\n",
    "    'rows_produced': np.random.uniform(10, 1000, size=100),\n",
    "    'query_text': np.random.choice(['SELECT', 'JOIN', 'AGGREGATE'], size=100),\n",
    "})\n",
    "\n",
    "# Add derived columns\n",
    "query_logs['efficiency_score'] = query_logs['rows_produced'] / query_logs['bytes_scanned']\n",
    "query_logs['complexity_score'] = query_logs['query_text'].apply(lambda x: 2 if x == 'JOIN' else 1)\n",
    "\n",
    "# Save to CSV\n",
    "query_logs.to_csv(\"synthetic_query_logs.csv\", index=False)\n"
   ]
  }
 ],
 "metadata": {
  "kernelspec": {
   "display_name": "Python 3 (ipykernel)",
   "language": "python",
   "name": "python3"
  },
  "language_info": {
   "codemirror_mode": {
    "name": "ipython",
    "version": 3
   },
   "file_extension": ".py",
   "mimetype": "text/x-python",
   "name": "python",
   "nbconvert_exporter": "python",
   "pygments_lexer": "ipython3",
   "version": "3.12.1"
  }
 },
 "nbformat": 4,
 "nbformat_minor": 2
}
