{
 "cells": [
  {
   "cell_type": "code",
   "execution_count": 20,
   "metadata": {},
   "outputs": [],
   "source": [
    "import pandas as pd\n",
    "import numpy as np"
   ]
  },
  {
   "cell_type": "code",
   "execution_count": 21,
   "metadata": {},
   "outputs": [],
   "source": [
    "query_logs = pd.read_csv(\"synthetic_query_logs.csv\")\n"
   ]
  },
  {
   "cell_type": "code",
   "execution_count": 22,
   "metadata": {},
   "outputs": [
    {
     "data": {
      "text/html": [
       "<div>\n",
       "<style scoped>\n",
       "    .dataframe tbody tr th:only-of-type {\n",
       "        vertical-align: middle;\n",
       "    }\n",
       "\n",
       "    .dataframe tbody tr th {\n",
       "        vertical-align: top;\n",
       "    }\n",
       "\n",
       "    .dataframe thead th {\n",
       "        text-align: right;\n",
       "    }\n",
       "</style>\n",
       "<table border=\"1\" class=\"dataframe\">\n",
       "  <thead>\n",
       "    <tr style=\"text-align: right;\">\n",
       "      <th></th>\n",
       "      <th>query_id</th>\n",
       "      <th>user_name</th>\n",
       "      <th>execution_time</th>\n",
       "      <th>bytes_scanned</th>\n",
       "      <th>rows_produced</th>\n",
       "      <th>query_text</th>\n",
       "      <th>efficiency_score</th>\n",
       "      <th>complexity_score</th>\n",
       "    </tr>\n",
       "  </thead>\n",
       "  <tbody>\n",
       "    <tr>\n",
       "      <th>0</th>\n",
       "      <td>1</td>\n",
       "      <td>user_c</td>\n",
       "      <td>4.775598</td>\n",
       "      <td>264.219506</td>\n",
       "      <td>812.012261</td>\n",
       "      <td>JOIN</td>\n",
       "      <td>3.073249</td>\n",
       "      <td>2</td>\n",
       "    </tr>\n",
       "    <tr>\n",
       "      <th>1</th>\n",
       "      <td>2</td>\n",
       "      <td>user_a</td>\n",
       "      <td>1.104920</td>\n",
       "      <td>5169.721277</td>\n",
       "      <td>868.401595</td>\n",
       "      <td>SELECT</td>\n",
       "      <td>0.167978</td>\n",
       "      <td>1</td>\n",
       "    </tr>\n",
       "    <tr>\n",
       "      <th>2</th>\n",
       "      <td>3</td>\n",
       "      <td>user_c</td>\n",
       "      <td>16.493767</td>\n",
       "      <td>2342.308174</td>\n",
       "      <td>914.108147</td>\n",
       "      <td>AGGREGATE</td>\n",
       "      <td>0.390260</td>\n",
       "      <td>1</td>\n",
       "    </tr>\n",
       "    <tr>\n",
       "      <th>3</th>\n",
       "      <td>4</td>\n",
       "      <td>user_c</td>\n",
       "      <td>14.430290</td>\n",
       "      <td>6487.210625</td>\n",
       "      <td>516.228975</td>\n",
       "      <td>JOIN</td>\n",
       "      <td>0.079576</td>\n",
       "      <td>2</td>\n",
       "    </tr>\n",
       "    <tr>\n",
       "      <th>4</th>\n",
       "      <td>5</td>\n",
       "      <td>user_a</td>\n",
       "      <td>14.851136</td>\n",
       "      <td>1826.227647</td>\n",
       "      <td>506.501132</td>\n",
       "      <td>AGGREGATE</td>\n",
       "      <td>0.277348</td>\n",
       "      <td>1</td>\n",
       "    </tr>\n",
       "  </tbody>\n",
       "</table>\n",
       "</div>"
      ],
      "text/plain": [
       "   query_id user_name  execution_time  bytes_scanned  rows_produced  \\\n",
       "0         1    user_c        4.775598     264.219506     812.012261   \n",
       "1         2    user_a        1.104920    5169.721277     868.401595   \n",
       "2         3    user_c       16.493767    2342.308174     914.108147   \n",
       "3         4    user_c       14.430290    6487.210625     516.228975   \n",
       "4         5    user_a       14.851136    1826.227647     506.501132   \n",
       "\n",
       "  query_text  efficiency_score  complexity_score  \n",
       "0       JOIN          3.073249                 2  \n",
       "1     SELECT          0.167978                 1  \n",
       "2  AGGREGATE          0.390260                 1  \n",
       "3       JOIN          0.079576                 2  \n",
       "4  AGGREGATE          0.277348                 1  "
      ]
     },
     "execution_count": 22,
     "metadata": {},
     "output_type": "execute_result"
    }
   ],
   "source": [
    "query_logs.head(5)\n"
   ]
  },
  {
   "cell_type": "markdown",
   "metadata": {},
   "source": [
    "Normalizing features"
   ]
  },
  {
   "cell_type": "code",
   "execution_count": 23,
   "metadata": {},
   "outputs": [
    {
     "name": "stdout",
     "output_type": "stream",
     "text": [
      "   query_id user_name  execution_time  bytes_scanned  rows_produced  \\\n",
      "0         1    user_c       -0.971688      -1.739819     812.012261   \n",
      "1         2    user_a       -1.644859      -0.059589     868.401595   \n",
      "2         3    user_c        1.177324      -1.028033     914.108147   \n",
      "3         4    user_c        0.798900       0.391677     516.228975   \n",
      "4         5    user_a        0.876079      -1.204801     506.501132   \n",
      "\n",
      "  query_text  efficiency_score  complexity_score  \n",
      "0       JOIN          3.073249          1.644294  \n",
      "1     SELECT          0.167978         -0.608164  \n",
      "2  AGGREGATE          0.390260         -0.608164  \n",
      "3       JOIN          0.079576          1.644294  \n",
      "4  AGGREGATE          0.277348         -0.608164  \n"
     ]
    }
   ],
   "source": [
    "from sklearn.preprocessing import StandardScaler\n",
    "import pandas as pd\n",
    "\n",
    "# Load the data\n",
    "query_logs = pd.read_csv(\"synthetic_query_logs.csv\")\n",
    "\n",
    "# Select the columns to normalize\n",
    "features_to_normalize = ['execution_time', 'bytes_scanned', 'complexity_score']\n",
    "\n",
    "# Initialize the scaler\n",
    "scaler = StandardScaler()\n",
    "\n",
    "# Normalize the features\n",
    "query_logs[features_to_normalize] = scaler.fit_transform(query_logs[features_to_normalize])\n",
    "\n",
    "# View the normalized data\n",
    "print(query_logs.head())\n"
   ]
  },
  {
   "cell_type": "markdown",
   "metadata": {},
   "source": [
    "## Building the AI Model\n",
    "* Label Data for Suboptimal Queries\n",
    "\n",
    "* Defining of suboptimal queries as those with:\n",
    "execution_time > 10 seconds\n",
    "efficiency_score < 0.1"
   ]
  },
  {
   "cell_type": "code",
   "execution_count": 24,
   "metadata": {},
   "outputs": [],
   "source": [
    "query_logs['label'] = ((query_logs['execution_time'] > 10) | (query_logs['efficiency_score'] < 0.1)).astype(int)"
   ]
  },
  {
   "cell_type": "markdown",
   "metadata": {},
   "source": [
    "Training ML Model"
   ]
  },
  {
   "cell_type": "code",
   "execution_count": 25,
   "metadata": {},
   "outputs": [
    {
     "name": "stdout",
     "output_type": "stream",
     "text": [
      "              precision    recall  f1-score   support\n",
      "\n",
      "           0       0.83      0.83      0.83        12\n",
      "           1       0.75      0.75      0.75         8\n",
      "\n",
      "    accuracy                           0.80        20\n",
      "   macro avg       0.79      0.79      0.79        20\n",
      "weighted avg       0.80      0.80      0.80        20\n",
      "\n"
     ]
    }
   ],
   "source": [
    "from sklearn.ensemble import RandomForestClassifier\n",
    "from sklearn.model_selection import train_test_split\n",
    "from sklearn.metrics import classification_report\n",
    "\n",
    "# Define features and target\n",
    "X = query_logs[['execution_time', 'bytes_scanned', 'complexity_score']]\n",
    "y = query_logs['label']\n",
    "\n",
    "# Split data\n",
    "X_train, X_test, y_train, y_test = train_test_split(X, y, test_size=0.2, random_state=42)\n",
    "\n",
    "# Train model\n",
    "model = RandomForestClassifier(random_state=42)\n",
    "model.fit(X_train, y_train)\n",
    "\n",
    "# Evaluate model\n",
    "y_pred = model.predict(X_test)\n",
    "print(classification_report(y_test, y_pred))\n"
   ]
  },
  {
   "cell_type": "markdown",
   "metadata": {},
   "source": [
    "What does it mean?\n",
    "\n",
    "Precision tells you how many of the predicted positives were actually positive.\n",
    "Recall tells you how many of the actual positives were correctly identified.\n",
    "F1-Score gives a balanced measure considering both precision and recall.\n",
    "Accuracy measures overall correct predictions.\n",
    "Macro avg and Weighted avg provide averages for all classes, with the weighted average considering class imbalances.\n",
    "\n",
    "\n",
    "In this case, the model has slightly better performance for class 0 (precision and recall of 0.83) compared to class 1 (precision and recall of 0.75), which is reflected in the overall accuracy and averages."
   ]
  },
  {
   "cell_type": "markdown",
   "metadata": {},
   "source": []
  },
  {
   "cell_type": "markdown",
   "metadata": {},
   "source": [
    "## Optimization\n",
    "\n",
    "Rules for Optimization\n",
    "High Execution Time\n",
    "\n",
    "Condition: execution_time > 10 seconds\n",
    "Recommendation: Suggest query optimization techniques like creating indexes or optimizing joins.\n",
    "Low Efficiency Score\n",
    "\n",
    "Condition: efficiency_score < 0.1\n",
    "Recommendation: Reduce the number of bytes scanned by introducing partitioning or clustering for large datasets.\n",
    "No Issues Detected\n",
    "\n",
    "Condition: Neither of the above conditions is met.\n",
    "Recommendation: The query is optimal."
   ]
  },
  {
   "cell_type": "code",
   "execution_count": 26,
   "metadata": {},
   "outputs": [
    {
     "data": {
      "text/html": [
       "<div>\n",
       "<style scoped>\n",
       "    .dataframe tbody tr th:only-of-type {\n",
       "        vertical-align: middle;\n",
       "    }\n",
       "\n",
       "    .dataframe tbody tr th {\n",
       "        vertical-align: top;\n",
       "    }\n",
       "\n",
       "    .dataframe thead th {\n",
       "        text-align: right;\n",
       "    }\n",
       "</style>\n",
       "<table border=\"1\" class=\"dataframe\">\n",
       "  <thead>\n",
       "    <tr style=\"text-align: right;\">\n",
       "      <th></th>\n",
       "      <th>query_id</th>\n",
       "      <th>execution_time</th>\n",
       "      <th>efficiency_score</th>\n",
       "      <th>recommendation</th>\n",
       "    </tr>\n",
       "  </thead>\n",
       "  <tbody>\n",
       "    <tr>\n",
       "      <th>0</th>\n",
       "      <td>1</td>\n",
       "      <td>-0.971688</td>\n",
       "      <td>3.073249</td>\n",
       "      <td>Query is optimal</td>\n",
       "    </tr>\n",
       "    <tr>\n",
       "      <th>1</th>\n",
       "      <td>2</td>\n",
       "      <td>-1.644859</td>\n",
       "      <td>0.167978</td>\n",
       "      <td>Query is optimal</td>\n",
       "    </tr>\n",
       "    <tr>\n",
       "      <th>2</th>\n",
       "      <td>3</td>\n",
       "      <td>1.177324</td>\n",
       "      <td>0.390260</td>\n",
       "      <td>Query is optimal</td>\n",
       "    </tr>\n",
       "    <tr>\n",
       "      <th>3</th>\n",
       "      <td>4</td>\n",
       "      <td>0.798900</td>\n",
       "      <td>0.079576</td>\n",
       "      <td>Consider clustering or partitioning to reduce ...</td>\n",
       "    </tr>\n",
       "    <tr>\n",
       "      <th>4</th>\n",
       "      <td>5</td>\n",
       "      <td>0.876079</td>\n",
       "      <td>0.277348</td>\n",
       "      <td>Query is optimal</td>\n",
       "    </tr>\n",
       "  </tbody>\n",
       "</table>\n",
       "</div>"
      ],
      "text/plain": [
       "   query_id  execution_time  efficiency_score  \\\n",
       "0         1       -0.971688          3.073249   \n",
       "1         2       -1.644859          0.167978   \n",
       "2         3        1.177324          0.390260   \n",
       "3         4        0.798900          0.079576   \n",
       "4         5        0.876079          0.277348   \n",
       "\n",
       "                                      recommendation  \n",
       "0                                   Query is optimal  \n",
       "1                                   Query is optimal  \n",
       "2                                   Query is optimal  \n",
       "3  Consider clustering or partitioning to reduce ...  \n",
       "4                                   Query is optimal  "
      ]
     },
     "execution_count": 26,
     "metadata": {},
     "output_type": "execute_result"
    }
   ],
   "source": [
    "# Recommendations based on rules\n",
    "def generate_recommendation(row):\n",
    "    if row['execution_time'] > 10:\n",
    "        return \"Optimize query structure (e.g., create indexes or optimize joins)\"\n",
    "    elif row['efficiency_score'] < 0.1:\n",
    "        return \"Consider clustering or partitioning to reduce bytes scanned\"\n",
    "    else:\n",
    "        return \"Query is optimal\"\n",
    "\n",
    "# Apply recommendations to the dataset\n",
    "query_logs['recommendation'] = query_logs.apply(generate_recommendation, axis=1)\n",
    "\n",
    "# Display the dataset with recommendations\n",
    "query_logs[['query_id', 'execution_time', 'efficiency_score', 'recommendation']].head()\n"
   ]
  },
  {
   "cell_type": "markdown",
   "metadata": {},
   "source": [
    "## Building a dashboard\n",
    "\n",
    "First install streamlit "
   ]
  },
  {
   "cell_type": "code",
   "execution_count": 27,
   "metadata": {},
   "outputs": [],
   "source": [
    "#pip install streamlit"
   ]
  },
  {
   "cell_type": "markdown",
   "metadata": {},
   "source": [
    "Now create an streamlit.app"
   ]
  },
  {
   "cell_type": "code",
   "execution_count": 28,
   "metadata": {},
   "outputs": [
    {
     "name": "stderr",
     "output_type": "stream",
     "text": [
      "2024-12-16 16:43:57.026 Thread 'MainThread': missing ScriptRunContext! This warning can be ignored when running in bare mode.\n",
      "2024-12-16 16:43:57.028 Thread 'MainThread': missing ScriptRunContext! This warning can be ignored when running in bare mode.\n",
      "2024-12-16 16:43:57.029 Thread 'MainThread': missing ScriptRunContext! This warning can be ignored when running in bare mode.\n",
      "2024-12-16 16:43:57.029 Thread 'MainThread': missing ScriptRunContext! This warning can be ignored when running in bare mode.\n",
      "2024-12-16 16:43:57.030 Thread 'MainThread': missing ScriptRunContext! This warning can be ignored when running in bare mode.\n",
      "2024-12-16 16:43:57.030 Thread 'MainThread': missing ScriptRunContext! This warning can be ignored when running in bare mode.\n",
      "2024-12-16 16:43:57.045 Thread 'MainThread': missing ScriptRunContext! This warning can be ignored when running in bare mode.\n",
      "2024-12-16 16:43:57.046 Thread 'MainThread': missing ScriptRunContext! This warning can be ignored when running in bare mode.\n"
     ]
    },
    {
     "data": {
      "text/plain": [
       "DeltaGenerator()"
      ]
     },
     "execution_count": 28,
     "metadata": {},
     "output_type": "execute_result"
    }
   ],
   "source": [
    "import streamlit as st\n",
    "\n",
    "# Display data\n",
    "st.title(\"AI-Enhanced Query Optimization\")\n",
    "st.write(\"Explore recommendations for improving query efficiency.\")\n",
    "st.dataframe(query_logs[['query_id', 'execution_time', 'efficiency_score', 'recommendation']])\n"
   ]
  },
  {
   "cell_type": "code",
   "execution_count": 29,
   "metadata": {
    "vscode": {
     "languageId": "powershell"
    }
   },
   "outputs": [
    {
     "ename": "SyntaxError",
     "evalue": "invalid syntax (2482160671.py, line 1)",
     "output_type": "error",
     "traceback": [
      "\u001b[0;36m  Cell \u001b[0;32mIn[29], line 1\u001b[0;36m\u001b[0m\n\u001b[0;31m    streamlit run streamlit_app.py\u001b[0m\n\u001b[0m              ^\u001b[0m\n\u001b[0;31mSyntaxError\u001b[0m\u001b[0;31m:\u001b[0m invalid syntax\n"
     ]
    }
   ],
   "source": [
    "streamlit run streamlit_app.py\n"
   ]
  },
  {
   "cell_type": "code",
   "execution_count": null,
   "metadata": {
    "vscode": {
     "languageId": "powershell"
    }
   },
   "outputs": [],
   "source": [
    "pip install streamlit\n"
   ]
  }
 ],
 "metadata": {
  "kernelspec": {
   "display_name": "Python 3 (ipykernel)",
   "language": "python",
   "name": "python3"
  }
 },
 "nbformat": 4,
 "nbformat_minor": 2
}
