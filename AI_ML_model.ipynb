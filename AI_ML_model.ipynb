{
 "cells": [
  {
   "cell_type": "code",
   "execution_count": 3,
   "metadata": {},
   "outputs": [],
   "source": [
    "import pandas as pd\n",
    "import numpy as np"
   ]
  },
  {
   "cell_type": "code",
   "execution_count": 4,
   "metadata": {},
   "outputs": [],
   "source": [
    "query_logs = pd.read_csv(\"synthetic_query_logs.csv\")\n"
   ]
  },
  {
   "cell_type": "code",
   "execution_count": 5,
   "metadata": {},
   "outputs": [
    {
     "data": {
      "text/html": [
       "<div>\n",
       "<style scoped>\n",
       "    .dataframe tbody tr th:only-of-type {\n",
       "        vertical-align: middle;\n",
       "    }\n",
       "\n",
       "    .dataframe tbody tr th {\n",
       "        vertical-align: top;\n",
       "    }\n",
       "\n",
       "    .dataframe thead th {\n",
       "        text-align: right;\n",
       "    }\n",
       "</style>\n",
       "<table border=\"1\" class=\"dataframe\">\n",
       "  <thead>\n",
       "    <tr style=\"text-align: right;\">\n",
       "      <th></th>\n",
       "      <th>query_id</th>\n",
       "      <th>user_name</th>\n",
       "      <th>execution_time</th>\n",
       "      <th>bytes_scanned</th>\n",
       "      <th>rows_produced</th>\n",
       "      <th>query_text</th>\n",
       "      <th>efficiency_score</th>\n",
       "      <th>complexity_score</th>\n",
       "    </tr>\n",
       "  </thead>\n",
       "  <tbody>\n",
       "    <tr>\n",
       "      <th>0</th>\n",
       "      <td>1</td>\n",
       "      <td>user_c</td>\n",
       "      <td>4.775598</td>\n",
       "      <td>264.219506</td>\n",
       "      <td>812.012261</td>\n",
       "      <td>JOIN</td>\n",
       "      <td>3.073249</td>\n",
       "      <td>2</td>\n",
       "    </tr>\n",
       "    <tr>\n",
       "      <th>1</th>\n",
       "      <td>2</td>\n",
       "      <td>user_a</td>\n",
       "      <td>1.104920</td>\n",
       "      <td>5169.721277</td>\n",
       "      <td>868.401595</td>\n",
       "      <td>SELECT</td>\n",
       "      <td>0.167978</td>\n",
       "      <td>1</td>\n",
       "    </tr>\n",
       "    <tr>\n",
       "      <th>2</th>\n",
       "      <td>3</td>\n",
       "      <td>user_c</td>\n",
       "      <td>16.493767</td>\n",
       "      <td>2342.308174</td>\n",
       "      <td>914.108147</td>\n",
       "      <td>AGGREGATE</td>\n",
       "      <td>0.390260</td>\n",
       "      <td>1</td>\n",
       "    </tr>\n",
       "    <tr>\n",
       "      <th>3</th>\n",
       "      <td>4</td>\n",
       "      <td>user_c</td>\n",
       "      <td>14.430290</td>\n",
       "      <td>6487.210625</td>\n",
       "      <td>516.228975</td>\n",
       "      <td>JOIN</td>\n",
       "      <td>0.079576</td>\n",
       "      <td>2</td>\n",
       "    </tr>\n",
       "    <tr>\n",
       "      <th>4</th>\n",
       "      <td>5</td>\n",
       "      <td>user_a</td>\n",
       "      <td>14.851136</td>\n",
       "      <td>1826.227647</td>\n",
       "      <td>506.501132</td>\n",
       "      <td>AGGREGATE</td>\n",
       "      <td>0.277348</td>\n",
       "      <td>1</td>\n",
       "    </tr>\n",
       "  </tbody>\n",
       "</table>\n",
       "</div>"
      ],
      "text/plain": [
       "   query_id user_name  execution_time  bytes_scanned  rows_produced  \\\n",
       "0         1    user_c        4.775598     264.219506     812.012261   \n",
       "1         2    user_a        1.104920    5169.721277     868.401595   \n",
       "2         3    user_c       16.493767    2342.308174     914.108147   \n",
       "3         4    user_c       14.430290    6487.210625     516.228975   \n",
       "4         5    user_a       14.851136    1826.227647     506.501132   \n",
       "\n",
       "  query_text  efficiency_score  complexity_score  \n",
       "0       JOIN          3.073249                 2  \n",
       "1     SELECT          0.167978                 1  \n",
       "2  AGGREGATE          0.390260                 1  \n",
       "3       JOIN          0.079576                 2  \n",
       "4  AGGREGATE          0.277348                 1  "
      ]
     },
     "execution_count": 5,
     "metadata": {},
     "output_type": "execute_result"
    }
   ],
   "source": [
    "query_logs.head(5)\n"
   ]
  },
  {
   "cell_type": "markdown",
   "metadata": {},
   "source": [
    "Normalizing features"
   ]
  },
  {
   "cell_type": "code",
   "execution_count": 6,
   "metadata": {},
   "outputs": [
    {
     "name": "stdout",
     "output_type": "stream",
     "text": [
      "   query_id user_name  execution_time  bytes_scanned  rows_produced  \\\n",
      "0         1    user_c       -0.971688      -1.739819     812.012261   \n",
      "1         2    user_a       -1.644859      -0.059589     868.401595   \n",
      "2         3    user_c        1.177324      -1.028033     914.108147   \n",
      "3         4    user_c        0.798900       0.391677     516.228975   \n",
      "4         5    user_a        0.876079      -1.204801     506.501132   \n",
      "\n",
      "  query_text  efficiency_score  complexity_score  \n",
      "0       JOIN          3.073249          1.644294  \n",
      "1     SELECT          0.167978         -0.608164  \n",
      "2  AGGREGATE          0.390260         -0.608164  \n",
      "3       JOIN          0.079576          1.644294  \n",
      "4  AGGREGATE          0.277348         -0.608164  \n"
     ]
    }
   ],
   "source": [
    "from sklearn.preprocessing import StandardScaler\n",
    "import pandas as pd\n",
    "\n",
    "# Load the data\n",
    "query_logs = pd.read_csv(\"synthetic_query_logs.csv\")\n",
    "\n",
    "# Select the columns to normalize\n",
    "features_to_normalize = ['execution_time', 'bytes_scanned', 'complexity_score']\n",
    "\n",
    "# Initialize the scaler\n",
    "scaler = StandardScaler()\n",
    "\n",
    "# Normalize the features\n",
    "query_logs[features_to_normalize] = scaler.fit_transform(query_logs[features_to_normalize])\n",
    "\n",
    "# View the normalized data\n",
    "print(query_logs.head())\n"
   ]
  },
  {
   "cell_type": "markdown",
   "metadata": {},
   "source": [
    "## Building the AI Model\n",
    "* Label Data for Suboptimal Queries\n",
    "\n",
    "* Defining of suboptimal queries as those with:\n",
    "execution_time > 10 seconds\n",
    "efficiency_score < 0.1"
   ]
  },
  {
   "cell_type": "code",
   "execution_count": 7,
   "metadata": {},
   "outputs": [],
   "source": [
    "query_logs['label'] = ((query_logs['execution_time'] > 10) | (query_logs['efficiency_score'] < 0.1)).astype(int)"
   ]
  },
  {
   "cell_type": "markdown",
   "metadata": {},
   "source": [
    "Training ML Model"
   ]
  },
  {
   "cell_type": "code",
   "execution_count": 8,
   "metadata": {},
   "outputs": [
    {
     "name": "stdout",
     "output_type": "stream",
     "text": [
      "              precision    recall  f1-score   support\n",
      "\n",
      "           0       0.83      0.83      0.83        12\n",
      "           1       0.75      0.75      0.75         8\n",
      "\n",
      "    accuracy                           0.80        20\n",
      "   macro avg       0.79      0.79      0.79        20\n",
      "weighted avg       0.80      0.80      0.80        20\n",
      "\n"
     ]
    }
   ],
   "source": [
    "from sklearn.ensemble import RandomForestClassifier\n",
    "from sklearn.model_selection import train_test_split\n",
    "from sklearn.metrics import classification_report\n",
    "\n",
    "# Define features and target\n",
    "X = query_logs[['execution_time', 'bytes_scanned', 'complexity_score']]\n",
    "y = query_logs['label']\n",
    "\n",
    "# Split data\n",
    "X_train, X_test, y_train, y_test = train_test_split(X, y, test_size=0.2, random_state=42)\n",
    "\n",
    "# Train model\n",
    "model = RandomForestClassifier(random_state=42)\n",
    "model.fit(X_train, y_train)\n",
    "\n",
    "# Evaluate model\n",
    "y_pred = model.predict(X_test)\n",
    "print(classification_report(y_test, y_pred))\n"
   ]
  },
  {
   "cell_type": "markdown",
   "metadata": {},
   "source": [
    "What does it mean?\n",
    "\n",
    "Precision tells you how many of the predicted positives were actually positive.\n",
    "Recall tells you how many of the actual positives were correctly identified.\n",
    "F1-Score gives a balanced measure considering both precision and recall.\n",
    "Accuracy measures overall correct predictions.\n",
    "Macro avg and Weighted avg provide averages for all classes, with the weighted average considering class imbalances.\n",
    "\n",
    "\n",
    "In this case, the model has slightly better performance for class 0 (precision and recall of 0.83) compared to class 1 (precision and recall of 0.75), which is reflected in the overall accuracy and averages."
   ]
  },
  {
   "cell_type": "markdown",
   "metadata": {},
   "source": []
  },
  {
   "cell_type": "markdown",
   "metadata": {},
   "source": [
    "## Optimization\n",
    "\n",
    "Rules for Optimization\n",
    "High Execution Time\n",
    "\n",
    "Condition: execution_time > 10 seconds\n",
    "Recommendation: Suggest query optimization techniques like creating indexes or optimizing joins.\n",
    "Low Efficiency Score\n",
    "\n",
    "Condition: efficiency_score < 0.1\n",
    "Recommendation: Reduce the number of bytes scanned by introducing partitioning or clustering for large datasets.\n",
    "No Issues Detected\n",
    "\n",
    "Condition: Neither of the above conditions is met.\n",
    "Recommendation: The query is optimal."
   ]
  },
  {
   "cell_type": "code",
   "execution_count": 9,
   "metadata": {},
   "outputs": [
    {
     "data": {
      "text/html": [
       "<div>\n",
       "<style scoped>\n",
       "    .dataframe tbody tr th:only-of-type {\n",
       "        vertical-align: middle;\n",
       "    }\n",
       "\n",
       "    .dataframe tbody tr th {\n",
       "        vertical-align: top;\n",
       "    }\n",
       "\n",
       "    .dataframe thead th {\n",
       "        text-align: right;\n",
       "    }\n",
       "</style>\n",
       "<table border=\"1\" class=\"dataframe\">\n",
       "  <thead>\n",
       "    <tr style=\"text-align: right;\">\n",
       "      <th></th>\n",
       "      <th>query_id</th>\n",
       "      <th>execution_time</th>\n",
       "      <th>efficiency_score</th>\n",
       "      <th>recommendation</th>\n",
       "    </tr>\n",
       "  </thead>\n",
       "  <tbody>\n",
       "    <tr>\n",
       "      <th>0</th>\n",
       "      <td>1</td>\n",
       "      <td>-0.971688</td>\n",
       "      <td>3.073249</td>\n",
       "      <td>Query is optimal</td>\n",
       "    </tr>\n",
       "    <tr>\n",
       "      <th>1</th>\n",
       "      <td>2</td>\n",
       "      <td>-1.644859</td>\n",
       "      <td>0.167978</td>\n",
       "      <td>Query is optimal</td>\n",
       "    </tr>\n",
       "    <tr>\n",
       "      <th>2</th>\n",
       "      <td>3</td>\n",
       "      <td>1.177324</td>\n",
       "      <td>0.390260</td>\n",
       "      <td>Query is optimal</td>\n",
       "    </tr>\n",
       "    <tr>\n",
       "      <th>3</th>\n",
       "      <td>4</td>\n",
       "      <td>0.798900</td>\n",
       "      <td>0.079576</td>\n",
       "      <td>Consider clustering or partitioning to reduce ...</td>\n",
       "    </tr>\n",
       "    <tr>\n",
       "      <th>4</th>\n",
       "      <td>5</td>\n",
       "      <td>0.876079</td>\n",
       "      <td>0.277348</td>\n",
       "      <td>Query is optimal</td>\n",
       "    </tr>\n",
       "  </tbody>\n",
       "</table>\n",
       "</div>"
      ],
      "text/plain": [
       "   query_id  execution_time  efficiency_score  \\\n",
       "0         1       -0.971688          3.073249   \n",
       "1         2       -1.644859          0.167978   \n",
       "2         3        1.177324          0.390260   \n",
       "3         4        0.798900          0.079576   \n",
       "4         5        0.876079          0.277348   \n",
       "\n",
       "                                      recommendation  \n",
       "0                                   Query is optimal  \n",
       "1                                   Query is optimal  \n",
       "2                                   Query is optimal  \n",
       "3  Consider clustering or partitioning to reduce ...  \n",
       "4                                   Query is optimal  "
      ]
     },
     "execution_count": 9,
     "metadata": {},
     "output_type": "execute_result"
    }
   ],
   "source": [
    "# Recommendations based on rules\n",
    "def generate_recommendation(row):\n",
    "    if row['execution_time'] > 10:\n",
    "        return \"Optimize query structure (e.g., create indexes or optimize joins)\"\n",
    "    elif row['efficiency_score'] < 0.1:\n",
    "        return \"Consider clustering or partitioning to reduce bytes scanned\"\n",
    "    else:\n",
    "        return \"Query is optimal\"\n",
    "\n",
    "# Apply recommendations to the dataset\n",
    "query_logs['recommendation'] = query_logs.apply(generate_recommendation, axis=1)\n",
    "\n",
    "# Display the dataset with recommendations\n",
    "query_logs[['query_id', 'execution_time', 'efficiency_score', 'recommendation']].head()\n"
   ]
  },
  {
   "cell_type": "markdown",
   "metadata": {},
   "source": [
    "## Building a dashboard\n",
    "\n",
    "First install streamlit "
   ]
  },
  {
   "cell_type": "code",
   "execution_count": 10,
   "metadata": {},
   "outputs": [
    {
     "name": "stdout",
     "output_type": "stream",
     "text": [
      "Collecting streamlitNote: you may need to restart the kernel to use updated packages.\n",
      "\n",
      "  Downloading streamlit-1.41.1-py2.py3-none-any.whl.metadata (8.5 kB)\n",
      "Collecting altair<6,>=4.0 (from streamlit)\n",
      "  Downloading altair-5.5.0-py3-none-any.whl.metadata (11 kB)\n",
      "Collecting blinker<2,>=1.0.0 (from streamlit)\n",
      "  Downloading blinker-1.9.0-py3-none-any.whl.metadata (1.6 kB)\n",
      "Requirement already satisfied: cachetools<6,>=4.0 in c:\\pythonenvs\\myenv\\lib\\site-packages (from streamlit) (5.5.0)\n",
      "Requirement already satisfied: click<9,>=7.0 in c:\\pythonenvs\\myenv\\lib\\site-packages (from streamlit) (8.1.7)\n",
      "Requirement already satisfied: numpy<3,>=1.23 in c:\\pythonenvs\\myenv\\lib\\site-packages (from streamlit) (2.1.1)\n",
      "Requirement already satisfied: packaging<25,>=20 in c:\\pythonenvs\\myenv\\lib\\site-packages (from streamlit) (24.1)\n",
      "Requirement already satisfied: pandas<3,>=1.4.0 in c:\\pythonenvs\\myenv\\lib\\site-packages (from streamlit) (2.2.2)\n",
      "Requirement already satisfied: pillow<12,>=7.1.0 in c:\\pythonenvs\\myenv\\lib\\site-packages (from streamlit) (11.0.0)\n",
      "Requirement already satisfied: protobuf<6,>=3.20 in c:\\pythonenvs\\myenv\\lib\\site-packages (from streamlit) (5.28.3)\n",
      "Collecting pyarrow>=7.0 (from streamlit)\n",
      "  Downloading pyarrow-18.1.0-cp311-cp311-win_amd64.whl.metadata (3.4 kB)\n",
      "Requirement already satisfied: requests<3,>=2.27 in c:\\pythonenvs\\myenv\\lib\\site-packages (from streamlit) (2.32.3)\n",
      "Collecting rich<14,>=10.14.0 (from streamlit)\n",
      "  Downloading rich-13.9.4-py3-none-any.whl.metadata (18 kB)\n",
      "Collecting tenacity<10,>=8.1.0 (from streamlit)\n",
      "  Downloading tenacity-9.0.0-py3-none-any.whl.metadata (1.2 kB)\n",
      "Collecting toml<2,>=0.10.1 (from streamlit)\n",
      "  Downloading toml-0.10.2-py2.py3-none-any.whl.metadata (7.1 kB)\n",
      "Requirement already satisfied: typing-extensions<5,>=4.3.0 in c:\\pythonenvs\\myenv\\lib\\site-packages (from streamlit) (4.12.2)\n",
      "Collecting watchdog<7,>=2.1.5 (from streamlit)\n",
      "  Downloading watchdog-6.0.0-py3-none-win_amd64.whl.metadata (44 kB)\n",
      "Collecting gitpython!=3.1.19,<4,>=3.0.7 (from streamlit)\n",
      "  Downloading GitPython-3.1.43-py3-none-any.whl.metadata (13 kB)\n",
      "Collecting pydeck<1,>=0.8.0b4 (from streamlit)\n",
      "  Downloading pydeck-0.9.1-py2.py3-none-any.whl.metadata (4.1 kB)\n",
      "Requirement already satisfied: tornado<7,>=6.0.3 in c:\\pythonenvs\\myenv\\lib\\site-packages (from streamlit) (6.4.1)\n",
      "Requirement already satisfied: jinja2 in c:\\pythonenvs\\myenv\\lib\\site-packages (from altair<6,>=4.0->streamlit) (3.1.4)\n",
      "Requirement already satisfied: jsonschema>=3.0 in c:\\pythonenvs\\myenv\\lib\\site-packages (from altair<6,>=4.0->streamlit) (4.23.0)\n",
      "Collecting narwhals>=1.14.2 (from altair<6,>=4.0->streamlit)\n",
      "  Downloading narwhals-1.18.4-py3-none-any.whl.metadata (8.4 kB)\n",
      "Requirement already satisfied: colorama in c:\\pythonenvs\\myenv\\lib\\site-packages (from click<9,>=7.0->streamlit) (0.4.6)\n",
      "Collecting gitdb<5,>=4.0.1 (from gitpython!=3.1.19,<4,>=3.0.7->streamlit)\n",
      "  Downloading gitdb-4.0.11-py3-none-any.whl.metadata (1.2 kB)\n",
      "Requirement already satisfied: python-dateutil>=2.8.2 in c:\\pythonenvs\\myenv\\lib\\site-packages (from pandas<3,>=1.4.0->streamlit) (2.9.0.post0)\n",
      "Requirement already satisfied: pytz>=2020.1 in c:\\pythonenvs\\myenv\\lib\\site-packages (from pandas<3,>=1.4.0->streamlit) (2024.2)\n",
      "Requirement already satisfied: tzdata>=2022.7 in c:\\pythonenvs\\myenv\\lib\\site-packages (from pandas<3,>=1.4.0->streamlit) (2024.1)\n",
      "Requirement already satisfied: charset-normalizer<4,>=2 in c:\\pythonenvs\\myenv\\lib\\site-packages (from requests<3,>=2.27->streamlit) (3.3.2)\n",
      "Requirement already satisfied: idna<4,>=2.5 in c:\\pythonenvs\\myenv\\lib\\site-packages (from requests<3,>=2.27->streamlit) (3.10)\n",
      "Requirement already satisfied: urllib3<3,>=1.21.1 in c:\\pythonenvs\\myenv\\lib\\site-packages (from requests<3,>=2.27->streamlit) (2.2.3)\n",
      "Requirement already satisfied: certifi>=2017.4.17 in c:\\pythonenvs\\myenv\\lib\\site-packages (from requests<3,>=2.27->streamlit) (2024.8.30)\n",
      "Collecting markdown-it-py>=2.2.0 (from rich<14,>=10.14.0->streamlit)\n",
      "  Downloading markdown_it_py-3.0.0-py3-none-any.whl.metadata (6.9 kB)\n",
      "Requirement already satisfied: pygments<3.0.0,>=2.13.0 in c:\\pythonenvs\\myenv\\lib\\site-packages (from rich<14,>=10.14.0->streamlit) (2.18.0)\n",
      "Collecting smmap<6,>=3.0.1 (from gitdb<5,>=4.0.1->gitpython!=3.1.19,<4,>=3.0.7->streamlit)\n",
      "  Downloading smmap-5.0.1-py3-none-any.whl.metadata (4.3 kB)\n",
      "Requirement already satisfied: MarkupSafe>=2.0 in c:\\pythonenvs\\myenv\\lib\\site-packages (from jinja2->altair<6,>=4.0->streamlit) (3.0.2)\n",
      "Requirement already satisfied: attrs>=22.2.0 in c:\\pythonenvs\\myenv\\lib\\site-packages (from jsonschema>=3.0->altair<6,>=4.0->streamlit) (24.2.0)\n",
      "Requirement already satisfied: jsonschema-specifications>=2023.03.6 in c:\\pythonenvs\\myenv\\lib\\site-packages (from jsonschema>=3.0->altair<6,>=4.0->streamlit) (2024.10.1)\n",
      "Requirement already satisfied: referencing>=0.28.4 in c:\\pythonenvs\\myenv\\lib\\site-packages (from jsonschema>=3.0->altair<6,>=4.0->streamlit) (0.35.1)\n",
      "Requirement already satisfied: rpds-py>=0.7.1 in c:\\pythonenvs\\myenv\\lib\\site-packages (from jsonschema>=3.0->altair<6,>=4.0->streamlit) (0.21.0)\n",
      "Collecting mdurl~=0.1 (from markdown-it-py>=2.2.0->rich<14,>=10.14.0->streamlit)\n",
      "  Downloading mdurl-0.1.2-py3-none-any.whl.metadata (1.6 kB)\n",
      "Requirement already satisfied: six>=1.5 in c:\\pythonenvs\\myenv\\lib\\site-packages (from python-dateutil>=2.8.2->pandas<3,>=1.4.0->streamlit) (1.16.0)\n",
      "Downloading streamlit-1.41.1-py2.py3-none-any.whl (9.1 MB)\n",
      "   ---------------------------------------- 0.0/9.1 MB ? eta -:--:--\n",
      "   ------ --------------------------------- 1.6/9.1 MB 9.3 MB/s eta 0:00:01\n",
      "   ---------------- ----------------------- 3.7/9.1 MB 9.5 MB/s eta 0:00:01\n",
      "   --------------------------- ------------ 6.3/9.1 MB 10.2 MB/s eta 0:00:01\n",
      "   ---------------------------------------  8.9/9.1 MB 11.1 MB/s eta 0:00:01\n",
      "   ---------------------------------------- 9.1/9.1 MB 9.4 MB/s eta 0:00:00\n",
      "Downloading altair-5.5.0-py3-none-any.whl (731 kB)\n",
      "   ---------------------------------------- 0.0/731.2 kB ? eta -:--:--\n",
      "   --------------------------------------- 731.2/731.2 kB 10.0 MB/s eta 0:00:00\n",
      "Downloading blinker-1.9.0-py3-none-any.whl (8.5 kB)\n",
      "Downloading GitPython-3.1.43-py3-none-any.whl (207 kB)\n",
      "Downloading pyarrow-18.1.0-cp311-cp311-win_amd64.whl (25.1 MB)\n",
      "   ---------------------------------------- 0.0/25.1 MB ? eta -:--:--\n",
      "   ----- ---------------------------------- 3.1/25.1 MB 15.3 MB/s eta 0:00:02\n",
      "   ----------- ---------------------------- 7.3/25.1 MB 17.4 MB/s eta 0:00:02\n",
      "   ----------------- ---------------------- 11.3/25.1 MB 18.0 MB/s eta 0:00:01\n",
      "   --------------------- ------------------ 13.6/25.1 MB 16.4 MB/s eta 0:00:01\n",
      "   ------------------------- -------------- 16.3/25.1 MB 16.0 MB/s eta 0:00:01\n",
      "   ----------------------------- ---------- 18.4/25.1 MB 14.5 MB/s eta 0:00:01\n",
      "   -------------------------------- ------- 20.4/25.1 MB 13.9 MB/s eta 0:00:01\n",
      "   ------------------------------------- -- 23.3/25.1 MB 13.8 MB/s eta 0:00:01\n",
      "   ---------------------------------------  24.9/25.1 MB 13.6 MB/s eta 0:00:01\n",
      "   ---------------------------------------- 25.1/25.1 MB 12.7 MB/s eta 0:00:00\n",
      "Downloading pydeck-0.9.1-py2.py3-none-any.whl (6.9 MB)\n",
      "   ---------------------------------------- 0.0/6.9 MB ? eta -:--:--\n",
      "   --------- ------------------------------ 1.6/6.9 MB 7.6 MB/s eta 0:00:01\n",
      "   ------------------- -------------------- 3.4/6.9 MB 8.7 MB/s eta 0:00:01\n",
      "   --------------------------------- ------ 5.8/6.9 MB 9.5 MB/s eta 0:00:01\n",
      "   ---------------------------------------- 6.9/6.9 MB 9.4 MB/s eta 0:00:00\n",
      "Downloading rich-13.9.4-py3-none-any.whl (242 kB)\n",
      "Downloading tenacity-9.0.0-py3-none-any.whl (28 kB)\n",
      "Downloading toml-0.10.2-py2.py3-none-any.whl (16 kB)\n",
      "Downloading watchdog-6.0.0-py3-none-win_amd64.whl (79 kB)\n",
      "Downloading gitdb-4.0.11-py3-none-any.whl (62 kB)\n",
      "Downloading markdown_it_py-3.0.0-py3-none-any.whl (87 kB)\n",
      "Downloading narwhals-1.18.4-py3-none-any.whl (251 kB)\n",
      "Downloading mdurl-0.1.2-py3-none-any.whl (10.0 kB)\n",
      "Downloading smmap-5.0.1-py3-none-any.whl (24 kB)\n",
      "Installing collected packages: watchdog, toml, tenacity, smmap, pyarrow, narwhals, mdurl, blinker, pydeck, markdown-it-py, gitdb, rich, gitpython, altair, streamlit\n",
      "Successfully installed altair-5.5.0 blinker-1.9.0 gitdb-4.0.11 gitpython-3.1.43 markdown-it-py-3.0.0 mdurl-0.1.2 narwhals-1.18.4 pyarrow-18.1.0 pydeck-0.9.1 rich-13.9.4 smmap-5.0.1 streamlit-1.41.1 tenacity-9.0.0 toml-0.10.2 watchdog-6.0.0\n"
     ]
    }
   ],
   "source": [
    "pip install streamlit"
   ]
  },
  {
   "cell_type": "markdown",
   "metadata": {},
   "source": [
    "Now create an streamlit.app"
   ]
  },
  {
   "cell_type": "code",
   "execution_count": 11,
   "metadata": {},
   "outputs": [
    {
     "name": "stderr",
     "output_type": "stream",
     "text": [
      "2024-12-16 17:27:26.625 WARNING streamlit.runtime.scriptrunner_utils.script_run_context: Thread 'MainThread': missing ScriptRunContext! This warning can be ignored when running in bare mode.\n",
      "2024-12-16 17:27:27.882 \n",
      "  \u001b[33m\u001b[1mWarning:\u001b[0m to view this Streamlit app on a browser, run it with the following\n",
      "  command:\n",
      "\n",
      "    streamlit run c:\\PythonEnvs\\myenv\\Lib\\site-packages\\ipykernel_launcher.py [ARGUMENTS]\n",
      "2024-12-16 17:27:27.882 Thread 'MainThread': missing ScriptRunContext! This warning can be ignored when running in bare mode.\n",
      "2024-12-16 17:27:27.887 Thread 'MainThread': missing ScriptRunContext! This warning can be ignored when running in bare mode.\n",
      "2024-12-16 17:27:27.887 Thread 'MainThread': missing ScriptRunContext! This warning can be ignored when running in bare mode.\n",
      "2024-12-16 17:27:27.890 Thread 'MainThread': missing ScriptRunContext! This warning can be ignored when running in bare mode.\n",
      "2024-12-16 17:27:27.890 Thread 'MainThread': missing ScriptRunContext! This warning can be ignored when running in bare mode.\n",
      "2024-12-16 17:27:28.746 Thread 'MainThread': missing ScriptRunContext! This warning can be ignored when running in bare mode.\n",
      "2024-12-16 17:27:28.751 Thread 'MainThread': missing ScriptRunContext! This warning can be ignored when running in bare mode.\n"
     ]
    },
    {
     "data": {
      "text/plain": [
       "DeltaGenerator()"
      ]
     },
     "execution_count": 11,
     "metadata": {},
     "output_type": "execute_result"
    }
   ],
   "source": [
    "import streamlit as st\n",
    "\n",
    "# Display data\n",
    "st.title(\"AI-Enhanced Query Optimization\")\n",
    "st.write(\"Explore recommendations for improving query efficiency.\")\n",
    "st.dataframe(query_logs[['query_id', 'execution_time', 'efficiency_score', 'recommendation']])\n"
   ]
  },
  {
   "cell_type": "code",
   "execution_count": 15,
   "metadata": {
    "vscode": {
     "languageId": "powershell"
    }
   },
   "outputs": [
    {
     "ename": "SyntaxError",
     "evalue": "invalid syntax (2482160671.py, line 1)",
     "output_type": "error",
     "traceback": [
      "\u001b[1;36m  Cell \u001b[1;32mIn[15], line 1\u001b[1;36m\u001b[0m\n\u001b[1;33m    streamlit run streamlit_app.py\u001b[0m\n\u001b[1;37m              ^\u001b[0m\n\u001b[1;31mSyntaxError\u001b[0m\u001b[1;31m:\u001b[0m invalid syntax\n"
     ]
    }
   ],
   "source": [
    "streamlit run streamlit_app.py\n"
   ]
  }
 ],
 "metadata": {
  "kernelspec": {
   "display_name": "myenv",
   "language": "python",
   "name": "python3"
  },
  "language_info": {
   "codemirror_mode": {
    "name": "ipython",
    "version": 3
   },
   "file_extension": ".py",
   "mimetype": "text/x-python",
   "name": "python",
   "nbconvert_exporter": "python",
   "pygments_lexer": "ipython3",
   "version": "3.11.9"
  }
 },
 "nbformat": 4,
 "nbformat_minor": 2
}
